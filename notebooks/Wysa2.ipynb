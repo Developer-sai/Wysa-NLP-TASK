{
 "cells": [
  {
   "cell_type": "code",
   "execution_count": null,
   "metadata": {},
   "outputs": [],
   "source": [
    "# Install necessary libraries\n",
    "!pip install transformers torch pandas matplotlib seaborn scikit-learn Flask wordcloud textblob googletrans==4.0.0-rc1\n"
   ]
  },
  {
   "cell_type": "code",
   "execution_count": null,
   "metadata": {},
   "outputs": [],
   "source": [
    "# Import libraries\n",
    "import pandas as pd\n",
    "import numpy as np\n",
    "import matplotlib.pyplot as plt\n",
    "import seaborn as sns\n",
    "from transformers import AutoTokenizer, AutoModelForSequenceClassification, Trainer, TrainingArguments\n",
    "from sklearn.model_selection import train_test_split\n",
    "from sklearn.metrics import classification_report, accuracy_score, f1_score\n",
    "import torch\n",
    "from flask import Flask, request, jsonify\n",
    "import re\n",
    "from wordcloud import WordCloud\n",
    "from textblob import TextBlob\n",
    "from googletrans import Translator\n",
    "import random\n"
   ]
  },
  {
   "cell_type": "code",
   "execution_count": null,
   "metadata": {},
   "outputs": [],
   "source": [
    "# Load the dataset\n",
    "train_data = pd.read_csv('Train.csv')\n",
    "test_data = pd.read_csv('Test.csv')\n",
    "\n",
    "# Initial exploration\n",
    "print(\"Train Data Head:\")\n",
    "print(train_data.head())\n",
    "print(\"\\nTrain Data Info:\")\n",
    "print(train_data.info())\n",
    "\n",
    "# Check for missing values\n",
    "print(\"\\nMissing Values in Train Data:\")\n",
    "print(train_data.isnull().sum())\n"
   ]
  },
  {
   "cell_type": "code",
   "execution_count": null,
   "metadata": {},
   "outputs": [],
   "source": [
    "# Visualize the distribution of emotions\n",
    "plt.figure(figsize=(12, 6))\n",
    "sns.countplot(data=train_data, x='emotion_in_tweet_is_directed_at')\n",
    "plt.title('Distribution of Emotions')\n",
    "plt.xticks(rotation=45)\n",
    "plt.show()\n"
   ]
  },
  {
   "cell_type": "code",
   "execution_count": null,
   "metadata": {},
   "outputs": [],
   "source": [
    "# Analyze tweet length\n",
    "train_data['text_length'] = train_data['tweet_text'].apply(lambda x: len(str(x)))\n",
    "\n",
    "# Plot the distribution of tweet lengths\n",
    "plt.figure(figsize=(12, 6))\n",
    "sns.histplot(train_data['text_length'], bins=30, kde=True)\n",
    "plt.title('Distribution of Tweet Lengths')\n",
    "plt.xlabel('Tweet Length')\n",
    "plt.ylabel('Frequency')\n",
    "plt.show()\n"
   ]
  },
  {
   "cell_type": "code",
   "execution_count": null,
   "metadata": {},
   "outputs": [],
   "source": [
    "# Generate a WordCloud for common words in tweets\n",
    "all_text = ' '.join([str(text) for text in train_data['tweet_text']])\n",
    "wordcloud = WordCloud(width=800, height=400, background_color='white').generate(all_text)\n",
    "\n",
    "plt.figure(figsize=(12, 6))\n",
    "plt.imshow(wordcloud, interpolation='bilinear')\n",
    "plt.axis('off')\n",
    "plt.title(\"Most Common Words in Tweets\")\n",
    "plt.show()\n"
   ]
  },
  {
   "cell_type": "code",
   "execution_count": null,
   "metadata": {},
   "outputs": [],
   "source": [
    "# Balance the dataset by oversampling underrepresented classes\n",
    "class_counts = train_data['emotion_in_tweet_is_directed_at'].value_counts()\n",
    "max_class_count = class_counts.max()\n",
    "\n",
    "# Oversample the minority classes to balance the dataset\n",
    "balanced_data = pd.DataFrame()\n",
    "for emotion in class_counts.index:\n",
    "    subset = train_data[train_data['emotion_in_tweet_is_directed_at'] == emotion]\n",
    "    balanced_subset = subset.sample(max_class_count, replace=True, random_state=42)\n",
    "    balanced_data = pd.concat([balanced_data, balanced_subset], axis=0)\n",
    "\n",
    "# Drop duplicate tweets to reduce noise\n",
    "balanced_data = balanced_data.drop_duplicates(subset=['tweet_text']).reset_index(drop=True)\n",
    "print(\"\\nBalanced Data Distribution:\\n\", balanced_data['emotion_in_tweet_is_directed_at'].value_counts())\n"
   ]
  },
  {
   "cell_type": "code",
   "execution_count": null,
   "metadata": {},
   "outputs": [],
   "source": [
    "# Initialize Translator for back translation\n",
    "translator = Translator()\n",
    "\n",
    "# Define functions for data augmentation\n",
    "def synonym_replacement(text):\n",
    "    words = text.split()\n",
    "    augmented_words = [TextBlob(word).synonyms()[0] if TextBlob(word).synonyms() else word for word in words]\n",
    "    return ' '.join(augmented_words)\n",
    "\n",
    "def back_translation(text):\n",
    "    # Translate to French and back to English\n",
    "    french_translation = translator.translate(text, src='en', dest='fr').text\n",
    "    return translator.translate(french_translation, src='fr', dest='en').text\n",
    "\n",
    "def random_insertion(text):\n",
    "    words = text.split()\n",
    "    for _ in range(random.randint(1, 3)):  # Randomly add 1 to 3 words\n",
    "        synonym_word = random.choice(words)\n",
    "        words.insert(random.randint(0, len(words)), synonym_word)\n",
    "    return ' '.join(words)\n",
    "\n",
    "# Apply augmentation to create additional samples\n",
    "augmented_data = balanced_data.copy()\n",
    "augmented_texts = []\n",
    "augmented_labels = []\n",
    "\n",
    "for _, row in balanced_data.iterrows():\n",
    "    text = row['tweet_text']\n",
    "    label = row['emotion_in_tweet_is_directed_at']\n",
    "    \n",
    "    # Synonym Replacement\n",
    "    augmented_texts.append(synonym_replacement(text))\n",
    "    augmented_labels.append(label)\n",
    "    \n",
    "    # Back Translation\n",
    "    augmented_texts.append(back_translation(text))\n",
    "    augmented_labels.append(label)\n",
    "    \n",
    "    # Random Insertion\n",
    "    augmented_texts.append(random_insertion(text))\n",
    "    augmented_labels.append(label)\n",
    "\n",
    "# Append augmented data to original dataset\n",
    "augmented_df = pd.DataFrame({'tweet_text': augmented_texts, 'emotion_in_tweet_is_directed_at': augmented_labels})\n",
    "final_data = pd.concat([balanced_data, augmented_df], ignore_index=True)\n"
   ]
  },
  {
   "cell_type": "code",
   "execution_count": null,
   "metadata": {},
   "outputs": [],
   "source": [
    "# Define text cleaning function\n",
    "def clean_text(text):\n",
    "    text = str(text)  # Ensure input is a string\n",
    "    text = re.sub(r'http\\S+', '', text)  # Remove URLs\n",
    "    text = re.sub(r'@\\w+', '', text)  # Remove mentions\n",
    "    text = re.sub(r'[^A-Za-z0-9 ]+', '', text)  # Remove special characters\n",
    "    text = text.lower()  # Convert to lowercase\n",
    "    return text\n",
    "\n",
    "# Apply cleaning\n",
    "final_data['cleaned_text'] = final_data['tweet_text'].apply(clean_text)\n"
   ]
  },
  {
   "cell_type": "code",
   "execution_count": null,
   "metadata": {},
   "outputs": [],
   "source": [
    "from sklearn.preprocessing import LabelEncoder\n",
    "\n",
    "# Encode target labels\n",
    "label_encoder = LabelEncoder()\n",
    "final_data['target'] = label_encoder.fit_transform(final_data['emotion_in_tweet_is_directed_at'])\n",
    "\n",
    "# Split data into train and validation sets\n",
    "X_train, X_val, y_train, y_val = train_test_split(\n",
    "    final_data['cleaned_text'], final_data['target'], test_size=0.2, random_state=42)\n"
   ]
  },
  {
   "cell_type": "code",
   "execution_count": null,
   "metadata": {},
   "outputs": [],
   "source": [
    "# Load tokenizer and model (try a more complex model like BERT to improve accuracy)\n",
    "model_name = 'bert-base-uncased'\n",
    "tokenizer = AutoTokenizer.from_pretrained(model_name)\n",
    "model = AutoModelForSequenceClassification.from_pretrained(model_name, num_labels=len(label_encoder.classes_))\n"
   ]
  },
  {
   "cell_type": "code",
   "execution_count": null,
   "metadata": {},
   "outputs": [],
   "source": [
    "# Tokenize data\n",
    "train_encodings = tokenizer(list(X_train), truncation=True, padding=True, max_length=128)\n",
    "val_encodings = tokenizer(list(X_val), truncation=True, padding=True, max_length=128)\n"
   ]
  },
  {
   "cell_type": "code",
   "execution_count": null,
   "metadata": {},
   "outputs": [],
   "source": [
    "class SentimentDataset(torch.utils.data.Dataset):\n",
    "    def __init__(self, encodings, labels):\n",
    "        self.encodings = encodings\n",
    "        self.labels = labels\n",
    "\n",
    "    def __getitem__(self, idx):\n",
    "        item = {key: torch.tensor(val[idx]) for key, val in self.encodings.items()}\n",
    "        item['labels'] = torch.tensor(self.labels[idx])\n",
    "        return item\n",
    "\n",
    "    def __len__(self):\n",
    "        return len(self.labels)\n",
    "\n",
    "# Prepare datasets\n",
    "train_dataset = SentimentDataset(train_encodings, list(y_train))\n",
    "val_dataset = SentimentDataset(val_encodings, list(y_val))\n"
   ]
  },
  {
   "cell_type": "code",
   "execution_count": null,
   "metadata": {},
   "outputs": [],
   "source": [
    "training_args = TrainingArguments(\n",
    "    output_dir='./results',\n",
    "    evaluation_strategy='epoch',\n",
    "    logging_strategy='epoch',\n",
    "    save_strategy='epoch',\n",
    "    per_device_train_batch_size=8,\n",
    "    per_device_eval_batch_size=8,\n",
    "    num_train_epochs=5,  # Increased epochs for better learning\n",
    "    weight_decay=0.01,\n",
    "    logging_dir='./logs',\n",
    "    report_to=\"none\"  # Disable WandB logging\n",
    ")\n",
    "\n",
    "trainer = Trainer(\n",
    "    model=model,\n",
    "    args=training_args,\n",
    "    train_dataset=train_dataset,\n",
    "    eval_dataset=val_dataset,\n",
    ")\n"
   ]
  },
  {
   "cell_type": "code",
   "execution_count": null,
   "metadata": {},
   "outputs": [],
   "source": [
    "# Train the model\n",
    "trainer.train()\n"
   ]
  },
  {
   "cell_type": "code",
   "execution_count": null,
   "metadata": {},
   "outputs": [],
   "source": [
    "# Make predictions on validation set\n",
    "val_preds = trainer.predict(val_dataset)\n",
    "val_preds_labels = np.argmax(val_preds.predictions, axis=1)\n",
    "\n",
    "# Convert label_encoder.classes_ to strings\n",
    "target_names = [str(class_name) for class_name in label_encoder.classes_]\n",
    "\n",
    "# Print classification report for detailed metrics by class\n",
    "print(\"Classification Report:\")\n",
    "print(classification_report(y_val, val_preds_labels, target_names=target_names))\n",
    "\n",
    "# Calculate overall precision, recall, and F1 score\n",
    "precision = precision_score(y_val, val_preds_labels, average='weighted')\n",
    "recall = recall_score(y_val, val_preds_labels, average='weighted')\n",
    "f1 = f1_score(y_val, val_preds_labels, average='weighted')\n",
    "\n",
    "print(\"\\nOverall Metrics:\")\n",
    "print(f\"Precision: {precision:.2f}\")\n",
    "print(f\"Recall: {recall:.2f}\")\n",
    "print(f\"F1 Score: {f1:.2f}\")\n",
    "\n",
    "# Explanation of Metrics:\n",
    "# - Precision: Measures the accuracy of positive predictions.\n",
    "# - Recall: Measures the model's ability to capture all relevant instances of each emotion.\n",
    "# - F1 Score: Balances precision and recall, providing a single metric that accounts for both.\n"
   ]
  },
  {
   "cell_type": "code",
   "execution_count": null,
   "metadata": {},
   "outputs": [],
   "source": [
    "# Function to predict emotion and sentiment for a single text input\n",
    "def predict_emotion_and_sentiment(text):\n",
    "    # Clean and tokenize the text\n",
    "    cleaned_text = clean_text(text)\n",
    "    inputs = tokenizer(cleaned_text, return_tensors=\"pt\", truncation=True, padding=True)\n",
    "    \n",
    "    # Predict emotion\n",
    "    with torch.no_grad():\n",
    "        outputs = model(**inputs)\n",
    "    prediction = torch.argmax(outputs.logits, dim=1).item()\n",
    "    \n",
    "    # Decode the predicted label to emotion\n",
    "    emotion = label_encoder.inverse_transform([prediction])[0]\n",
    "    \n",
    "    # Determine general sentiment (positive or negative)\n",
    "    positive_emotions = ['joy', 'love', 'surprise']  # Adjust based on your emotion classes\n",
    "    sentiment = \"Positive\" if emotion in positive_emotions else \"Negative\"\n",
    "    \n",
    "    return emotion, sentiment\n"
   ]
  },
  {
   "cell_type": "code",
   "execution_count": null,
   "metadata": {},
   "outputs": [],
   "source": [
    "# Sample input\n",
    "sample_text = \"Gotta love this #SXSW Google Calendar featuring top parties/ show cases to check out.\"\n",
    "\n",
    "# Predict emotion and sentiment\n",
    "emotion, sentiment = predict_emotion_and_sentiment(sample_text)\n",
    "\n",
    "print(f\"Input: {sample_text}\")\n",
    "print(f\"Predicted Emotion: {emotion}\")\n",
    "print(f\"Sentiment: {sentiment}\")\n"
   ]
  },
  {
   "cell_type": "code",
   "execution_count": null,
   "metadata": {},
   "outputs": [],
   "source": [
    "app = Flask(__name__)\n",
    "\n",
    "@app.route('/predict', methods=['POST'])\n",
    "def predict():\n",
    "    data = request.json\n",
    "    text = data.get('text', '')\n",
    "    emotion, sentiment = predict_emotion_and_sentiment(text)\n",
    "    return jsonify({'emotion': emotion, 'sentiment': sentiment})\n",
    "\n",
    "if __name__ == '__main__':\n",
    "    app.run(host='0.0.0.0', port=5000)\n"
   ]
  },
  {
   "cell_type": "code",
   "execution_count": null,
   "metadata": {},
   "outputs": [],
   "source": [
    "# Use an official Python runtime as a parent image\n",
    "FROM python:3.8-slim\n",
    "\n",
    "# Set the working directory in the container\n",
    "WORKDIR /app\n",
    "\n",
    "# Copy the current directory contents into the container at /app\n",
    "COPY . /app\n",
    "\n",
    "# Install dependencies\n",
    "RUN pip install --no-cache-dir -r requirements.txt\n",
    "\n",
    "# Expose the port that Flask will run on\n",
    "EXPOSE 5000\n",
    "\n",
    "# Run the Flask application\n",
    "CMD [\"python\", \"app.py\"]\n"
   ]
  },
  {
   "cell_type": "code",
   "execution_count": null,
   "metadata": {},
   "outputs": [],
   "source": [
    "transformers\n",
    "torch\n",
    "Flask\n",
    "pandas\n",
    "matplotlib\n",
    "seaborn\n",
    "scikit-learn\n",
    "wordcloud\n",
    "textblob\n",
    "googletrans==4.0.0-rc1\n"
   ]
  },
  {
   "cell_type": "code",
   "execution_count": null,
   "metadata": {},
   "outputs": [],
   "source": []
  }
 ],
 "metadata": {
  "language_info": {
   "name": "python"
  }
 },
 "nbformat": 4,
 "nbformat_minor": 2
}
