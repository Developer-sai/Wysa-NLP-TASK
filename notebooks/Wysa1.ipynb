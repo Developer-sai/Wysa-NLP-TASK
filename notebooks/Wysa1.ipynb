{
 "cells": [
  {
   "cell_type": "code",
   "execution_count": null,
   "metadata": {},
   "outputs": [],
   "source": [
    "# Install necessary libraries\n",
    "!pip install transformers torch pandas matplotlib seaborn scikit-learn Flask wordcloud\n"
   ]
  },
  {
   "cell_type": "code",
   "execution_count": null,
   "metadata": {},
   "outputs": [],
   "source": [
    "# Import libraries\n",
    "import pandas as pd\n",
    "import numpy as np\n",
    "import matplotlib.pyplot as plt\n",
    "import seaborn as sns\n",
    "from transformers import AutoTokenizer, AutoModelForSequenceClassification, Trainer, TrainingArguments\n",
    "from sklearn.model_selection import train_test_split\n",
    "from sklearn.metrics import classification_report, accuracy_score, f1_score\n",
    "import torch\n",
    "from flask import Flask, request, jsonify\n",
    "import re\n",
    "from wordcloud import WordCloud\n"
   ]
  },
  {
   "cell_type": "code",
   "execution_count": null,
   "metadata": {},
   "outputs": [],
   "source": [
    "# Load the dataset\n",
    "train_data = pd.read_csv('Train.csv')\n",
    "test_data = pd.read_csv('Test.csv')\n",
    "\n",
    "# Initial exploration\n",
    "print(\"Train Data Head:\")\n",
    "print(train_data.head())\n",
    "print(\"\\nTrain Data Info:\")\n",
    "print(train_data.info())\n",
    "\n",
    "# Check for missing values\n",
    "print(\"\\nMissing Values in Train Data:\")\n",
    "print(train_data.isnull().sum())\n"
   ]
  },
  {
   "cell_type": "code",
   "execution_count": null,
   "metadata": {},
   "outputs": [],
   "source": [
    "# Visualize the distribution of emotions\n",
    "plt.figure(figsize=(12, 6))\n",
    "sns.countplot(data=train_data, x='emotion_in_tweet_is_directed_at')\n",
    "plt.title('Distribution of Emotions')\n",
    "plt.xticks(rotation=45)\n",
    "plt.show()\n"
   ]
  },
  {
   "cell_type": "code",
   "execution_count": null,
   "metadata": {},
   "outputs": [],
   "source": [
    "# Analyze tweet length\n",
    "train_data['text_length'] = train_data['tweet_text'].apply(lambda x: len(str(x)))\n",
    "\n",
    "# Plot the distribution of tweet lengths\n",
    "plt.figure(figsize=(12, 6))\n",
    "sns.histplot(train_data['text_length'], bins=30, kde=True)\n",
    "plt.title('Distribution of Tweet Lengths')\n",
    "plt.xlabel('Tweet Length')\n",
    "plt.ylabel('Frequency')\n",
    "plt.show()\n"
   ]
  },
  {
   "cell_type": "code",
   "execution_count": null,
   "metadata": {},
   "outputs": [],
   "source": [
    "# Generate a WordCloud for common words in tweets\n",
    "all_text = ' '.join([str(text) for text in train_data['tweet_text']])\n",
    "wordcloud = WordCloud(width=800, height=400, background_color='white').generate(all_text)\n",
    "\n",
    "plt.figure(figsize=(12, 6))\n",
    "plt.imshow(wordcloud, interpolation='bilinear')\n",
    "plt.axis('off')\n",
    "plt.title(\"Most Common Words in Tweets\")\n",
    "plt.show()\n"
   ]
  },
  {
   "cell_type": "code",
   "execution_count": null,
   "metadata": {},
   "outputs": [],
   "source": [
    "# Define text cleaning function\n",
    "def clean_text(text):\n",
    "    text = str(text)  # Ensure input is a string\n",
    "    text = re.sub(r'http\\S+', '', text)  # Remove URLs\n",
    "    text = re.sub(r'@\\w+', '', text)  # Remove mentions\n",
    "    text = re.sub(r'[^A-Za-z0-9 ]+', '', text)  # Remove special characters\n",
    "    text = text.lower()  # Convert to lowercase\n",
    "    return text\n",
    "\n",
    "# Apply cleaning\n",
    "train_data['cleaned_text'] = train_data['tweet_text'].apply(clean_text)\n"
   ]
  },
  {
   "cell_type": "code",
   "execution_count": null,
   "metadata": {},
   "outputs": [],
   "source": [
    "from sklearn.preprocessing import LabelEncoder\n",
    "\n",
    "# Encode target labels\n",
    "label_encoder = LabelEncoder()\n",
    "train_data['target'] = label_encoder.fit_transform(train_data['emotion_in_tweet_is_directed_at'])\n",
    "\n",
    "# Split data into train and validation sets\n",
    "X_train, X_val, y_train, y_val = train_test_split(\n",
    "    train_data['cleaned_text'], train_data['target'], test_size=0.2, random_state=42)\n"
   ]
  },
  {
   "cell_type": "code",
   "execution_count": null,
   "metadata": {},
   "outputs": [],
   "source": [
    "# Load tokenizer and model (try a more complex model like BERT to improve accuracy)\n",
    "model_name = 'bert-base-uncased'\n",
    "tokenizer = AutoTokenizer.from_pretrained(model_name)\n",
    "model = AutoModelForSequenceClassification.from_pretrained(model_name, num_labels=len(label_encoder.classes_))\n"
   ]
  },
  {
   "cell_type": "code",
   "execution_count": null,
   "metadata": {},
   "outputs": [],
   "source": [
    "# Tokenize data\n",
    "train_encodings = tokenizer(list(X_train), truncation=True, padding=True, max_length=128)\n",
    "val_encodings = tokenizer(list(X_val), truncation=True, padding=True, max_length=128)\n"
   ]
  },
  {
   "cell_type": "code",
   "execution_count": null,
   "metadata": {},
   "outputs": [],
   "source": [
    "class SentimentDataset(torch.utils.data.Dataset):\n",
    "    def __init__(self, encodings, labels):\n",
    "        self.encodings = encodings\n",
    "        self.labels = labels\n",
    "\n",
    "    def __getitem__(self, idx):\n",
    "        item = {key: torch.tensor(val[idx]) for key, val in self.encodings.items()}\n",
    "        item['labels'] = torch.tensor(self.labels[idx])\n",
    "        return item\n",
    "\n",
    "    def __len__(self):\n",
    "        return len(self.labels)\n",
    "\n",
    "# Prepare datasets\n",
    "train_dataset = SentimentDataset(train_encodings, list(y_train))\n",
    "val_dataset = SentimentDataset(val_encodings, list(y_val))\n"
   ]
  },
  {
   "cell_type": "code",
   "execution_count": null,
   "metadata": {},
   "outputs": [],
   "source": [
    "training_args = TrainingArguments(\n",
    "    output_dir='./results',\n",
    "    evaluation_strategy='epoch',\n",
    "    logging_strategy='epoch',\n",
    "    save_strategy='epoch',\n",
    "    per_device_train_batch_size=8,\n",
    "    per_device_eval_batch_size=8,\n",
    "    num_train_epochs=3,  # Increased epochs for better learning\n",
    "    weight_decay=0.01,\n",
    "    logging_dir='./logs',\n",
    "    report_to=\"none\"  # Disable WandB logging\n",
    ")\n",
    "\n",
    "trainer = Trainer(\n",
    "    model=model,\n",
    "    args=training_args,\n",
    "    train_dataset=train_dataset,\n",
    "    eval_dataset=val_dataset,\n",
    ")\n"
   ]
  },
  {
   "cell_type": "code",
   "execution_count": null,
   "metadata": {},
   "outputs": [],
   "source": [
    "# Train the model\n",
    "trainer.train()\n"
   ]
  },
  {
   "cell_type": "code",
   "execution_count": null,
   "metadata": {},
   "outputs": [],
   "source": [
    "# Make predictions on validation set\n",
    "val_preds = trainer.predict(val_dataset)\n",
    "val_preds_labels = np.argmax(val_preds.predictions, axis=1)\n",
    "\n",
    "# Convert label_encoder.classes_ to strings\n",
    "target_names = [str(class_name) for class_name in label_encoder.classes_]\n",
    "\n",
    "# Print evaluation metrics with updated target names\n",
    "print(\"Classification Report:\")\n",
    "print(classification_report(y_val, val_preds_labels, target_names=target_names))\n"
   ]
  },
  {
   "cell_type": "code",
   "execution_count": null,
   "metadata": {},
   "outputs": [],
   "source": [
    "# Function to predict emotion and sentiment for a single text input\n",
    "def predict_emotion_and_sentiment(text):\n",
    "    # Clean and tokenize the text\n",
    "    cleaned_text = clean_text(text)\n",
    "    inputs = tokenizer(cleaned_text, return_tensors=\"pt\", truncation=True, padding=True)\n",
    "    \n",
    "    # Predict emotion\n",
    "    with torch.no_grad():\n",
    "        outputs = model(**inputs)\n",
    "    prediction = torch.argmax(outputs.logits, dim=1).item()\n",
    "    \n",
    "    # Decode the predicted label to emotion\n",
    "    emotion = label_encoder.inverse_transform([prediction])[0]\n",
    "    \n",
    "    # Determine general sentiment (positive or negative)\n",
    "    positive_emotions = ['joy', 'love', 'surprise']  # Adjust based on your emotion classes\n",
    "    sentiment = \"Positive\" if emotion in positive_emotions else \"Negative\"\n",
    "    \n",
    "    return emotion, sentiment\n"
   ]
  },
  {
   "cell_type": "code",
   "execution_count": null,
   "metadata": {},
   "outputs": [],
   "source": [
    "# Sample input\n",
    "sample_text = \"Gotta love this #SXSW Google Calendar featuring top parties/ show cases to check out.\"\n",
    "\n",
    "# Predict emotion and sentiment\n",
    "emotion, sentiment = predict_emotion_and_sentiment(sample_text)\n",
    "\n",
    "print(f\"Input: {sample_text}\")\n",
    "print(f\"Predicted Emotion: {emotion}\")\n",
    "print(f\"Sentiment: {sentiment}\")\n"
   ]
  },
  {
   "cell_type": "code",
   "execution_count": null,
   "metadata": {},
   "outputs": [],
   "source": [
    "app = Flask(__name__)\n",
    "\n",
    "@app.route('/predict', methods=['POST'])\n",
    "def predict():\n",
    "    data = request.json\n",
    "    text = data.get('text', '')\n",
    "    emotion, sentiment = predict_emotion_and_sentiment(text)\n",
    "    return jsonify({'emotion': emotion, 'sentiment': sentiment})\n",
    "\n",
    "if __name__ == '__main__':\n",
    "    app.run(host='0.0.0.0', port=5000)\n"
   ]
  }
 ],
 "metadata": {
  "kernelspec": {
   "display_name": "base",
   "language": "python",
   "name": "python3"
  },
  "language_info": {
   "codemirror_mode": {
    "name": "ipython",
    "version": 3
   },
   "file_extension": ".py",
   "mimetype": "text/x-python",
   "name": "python",
   "nbconvert_exporter": "python",
   "pygments_lexer": "ipython3",
   "version": "3.11.7"
  }
 },
 "nbformat": 4,
 "nbformat_minor": 2
}
